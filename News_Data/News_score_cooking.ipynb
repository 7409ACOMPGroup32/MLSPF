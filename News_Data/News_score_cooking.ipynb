{
 "cells": [
  {
   "cell_type": "code",
   "execution_count": null,
   "id": "3c3339f8",
   "metadata": {},
   "outputs": [],
   "source": [
    "import pandas as pd\n",
    "import numpy as np\n",
    "from tqdm import tqdm"
   ]
  },
  {
   "cell_type": "code",
   "execution_count": null,
   "id": "6da43a42",
   "metadata": {},
   "outputs": [],
   "source": [
    "# Read csv files\n",
    "df = pd.read_csv(\"Analysis_News.csv\")\n",
    "\n",
    "# Subtract the positive_score and negative_score for each day to create a new column \"my_score\"\n",
    "df[\"my_score\"] = df[\"positive_score\"] - df[\"negative_score\"]\n",
    "\n",
    "# Convert the \"Date\" column to date format\n",
    "df[\"Date\"] = pd.to_datetime(df[\"Date\"])\n",
    "\n",
    "# Normalize the \"my_score\" column\n",
    "df[\"my_score\"] = (df[\"my_score\"] - df[\"my_score\"].min()) / (df[\"my_score\"].max() - df[\"my_score\"].min())\n",
    "\n",
    "# Calculate the daily average\n",
    "daily_average = df.groupby(\"Date\")[\"my_score\"].mean()\n",
    "\n",
    "# Generate a new date range, including missing dates\n",
    "date_range = pd.date_range(start=df[\"Date\"].min(), end=df[\"Date\"].max(), freq=\"D\")\n",
    "\n",
    "# Create a new dataframe with a new date range\n",
    "new_df = pd.DataFrame(date_range, columns=[\"Date\"])\n",
    "\n",
    "# Combine the daily averages into a new dataframe\n",
    "new_df = new_df.merge(daily_average, on=\"Date\", how=\"left\")\n",
    "\n",
    "# Use 0.5 to fill in the missing \"my_score\" value\n",
    "new_df[\"my_score\"].fillna(0.5, inplace=True)\n",
    "\n",
    "# Show new dataframe\n",
    "print(new_df)\n",
    "\n",
    "\n"
   ]
  },
  {
   "cell_type": "code",
   "execution_count": null,
   "id": "b6a5a887",
   "metadata": {},
   "outputs": [],
   "source": [
    "# Set \"Date\" as an index\n",
    "new_df.set_index(\"Date\", inplace=True)\n",
    "\n",
    "# Mark weekends and Mondays\n",
    "new_df[\"is_weekend\"] = new_df.index.weekday.isin([5, 6])\n",
    "new_df[\"is_monday\"] = new_df.index.weekday == 0\n",
    "\n",
    "# Calculate the average of the previous Saturday, previous Sunday and Monday for each Monday\n",
    "\n",
    "monday_averages = []\n",
    "for i, row in tqdm(new_df.iterrows(), total=new_df.shape[0]):\n",
    "    if row[\"is_monday\"]:\n",
    "        weekend_dates = [i - pd.Timedelta(days=1), i - pd.Timedelta(days=2)]\n",
    "        weekend_scores = new_df[new_df.index.isin(weekend_dates)][\"my_score\"]\n",
    "        monday_averages.append((row[\"my_score\"] + weekend_scores.sum()) / 3)\n",
    "        # break\n",
    "# Replace Monday's value with the average of last Saturday, last Sunday and Monday's three days\n",
    "new_df.loc[new_df[\"is_monday\"], \"my_score\"] = monday_averages\n",
    "\n",
    "# Delete data from the weekend\n",
    "new_df = new_df[~new_df[\"is_weekend\"]]\n",
    "\n",
    "# Delete the \"is_weekend\" and \"is_monday\" columns\n",
    "new_df.drop([\"is_weekend\", \"is_monday\"], axis=1, inplace=True)\n",
    "\n"
   ]
  },
  {
   "cell_type": "code",
   "execution_count": null,
   "id": "4e2644e1",
   "metadata": {},
   "outputs": [],
   "source": [
    "# Show new dataframe\n",
    "print(new_df)\n",
    "\n",
    "# Store new_df as a CSV file\n",
    "new_df.to_csv(\"cooked_text_score.csv\")"
   ]
  }
 ],
 "metadata": {
  "kernelspec": {
   "display_name": "Python 3 (ipykernel)",
   "language": "python",
   "name": "python3"
  },
  "language_info": {
   "codemirror_mode": {
    "name": "ipython",
    "version": 3
   },
   "file_extension": ".py",
   "mimetype": "text/x-python",
   "name": "python",
   "nbconvert_exporter": "python",
   "pygments_lexer": "ipython3",
   "version": "3.9.12"
  }
 },
 "nbformat": 4,
 "nbformat_minor": 5
}
