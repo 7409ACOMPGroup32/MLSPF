{
 "cells": [
  {
   "cell_type": "code",
   "execution_count": 154,
   "id": "referenced-membership",
   "metadata": {},
   "outputs": [],
   "source": [
    "import numpy as np\n",
    "import pandas as pd\n",
    "from sklearn.datasets import load_boston\n",
    "from sklearn.model_selection import train_test_split\n",
    "from sklearn.ensemble import RandomForestRegressor, GradientBoostingRegressor\n",
    "from sklearn.linear_model import RidgeCV, LinearRegression\n",
    "from sklearn.tree import DecisionTreeRegressor\n",
    "from sklearn.svm import SVR\n",
    "from sklearn.inspection import permutation_importance\n",
    "import shap\n",
    "from matplotlib import pyplot as plt"
   ]
  },
  {
   "cell_type": "code",
   "execution_count": 155,
   "id": "engaging-rating",
   "metadata": {},
   "outputs": [],
   "source": [
    "import pandas as pd\n",
    "import numpy as np\n",
    "import datetime\n",
    "import seaborn as sns\n",
    "sns.set_style('whitegrid')\n",
    "from os import listdir\n",
    "from os.path import isfile, join\n",
    "from pandas_datareader import data\n",
    "import yfinance as yf\n",
    "import math\n",
    "import pmdarima as pm"
   ]
  },
  {
   "cell_type": "code",
   "execution_count": 174,
   "id": "aboriginal-western",
   "metadata": {},
   "outputs": [
    {
     "data": {
      "text/html": [
       "<div>\n",
       "<style scoped>\n",
       "    .dataframe tbody tr th:only-of-type {\n",
       "        vertical-align: middle;\n",
       "    }\n",
       "\n",
       "    .dataframe tbody tr th {\n",
       "        vertical-align: top;\n",
       "    }\n",
       "\n",
       "    .dataframe thead th {\n",
       "        text-align: right;\n",
       "    }\n",
       "</style>\n",
       "<table border=\"1\" class=\"dataframe\">\n",
       "  <thead>\n",
       "    <tr style=\"text-align: right;\">\n",
       "      <th></th>\n",
       "      <th>Date</th>\n",
       "      <th>Close</th>\n",
       "    </tr>\n",
       "  </thead>\n",
       "  <tbody>\n",
       "    <tr>\n",
       "      <th>0</th>\n",
       "      <td>2015-01-02</td>\n",
       "      <td>27.332500</td>\n",
       "    </tr>\n",
       "    <tr>\n",
       "      <th>1</th>\n",
       "      <td>2015-01-05</td>\n",
       "      <td>26.562500</td>\n",
       "    </tr>\n",
       "    <tr>\n",
       "      <th>2</th>\n",
       "      <td>2015-01-06</td>\n",
       "      <td>26.565001</td>\n",
       "    </tr>\n",
       "    <tr>\n",
       "      <th>3</th>\n",
       "      <td>2015-01-07</td>\n",
       "      <td>26.937500</td>\n",
       "    </tr>\n",
       "    <tr>\n",
       "      <th>4</th>\n",
       "      <td>2015-01-08</td>\n",
       "      <td>27.972500</td>\n",
       "    </tr>\n",
       "    <tr>\n",
       "      <th>...</th>\n",
       "      <td>...</td>\n",
       "      <td>...</td>\n",
       "    </tr>\n",
       "    <tr>\n",
       "      <th>2002</th>\n",
       "      <td>2022-12-23</td>\n",
       "      <td>131.860001</td>\n",
       "    </tr>\n",
       "    <tr>\n",
       "      <th>2003</th>\n",
       "      <td>2022-12-27</td>\n",
       "      <td>130.029999</td>\n",
       "    </tr>\n",
       "    <tr>\n",
       "      <th>2004</th>\n",
       "      <td>2022-12-28</td>\n",
       "      <td>126.040001</td>\n",
       "    </tr>\n",
       "    <tr>\n",
       "      <th>2005</th>\n",
       "      <td>2022-12-29</td>\n",
       "      <td>129.610001</td>\n",
       "    </tr>\n",
       "    <tr>\n",
       "      <th>2006</th>\n",
       "      <td>2022-12-30</td>\n",
       "      <td>129.929993</td>\n",
       "    </tr>\n",
       "  </tbody>\n",
       "</table>\n",
       "<p>2007 rows × 2 columns</p>\n",
       "</div>"
      ],
      "text/plain": [
       "            Date       Close\n",
       "0     2015-01-02   27.332500\n",
       "1     2015-01-05   26.562500\n",
       "2     2015-01-06   26.565001\n",
       "3     2015-01-07   26.937500\n",
       "4     2015-01-08   27.972500\n",
       "...          ...         ...\n",
       "2002  2022-12-23  131.860001\n",
       "2003  2022-12-27  130.029999\n",
       "2004  2022-12-28  126.040001\n",
       "2005  2022-12-29  129.610001\n",
       "2006  2022-12-30  129.929993\n",
       "\n",
       "[2007 rows x 2 columns]"
      ]
     },
     "execution_count": 174,
     "metadata": {},
     "output_type": "execute_result"
    }
   ],
   "source": [
    "AAPL_df = pd.read_csv('collected_df.csv', index_col = [0])\n",
    "AAPL_cols = AAPL_df.columns.tolist()\n",
    "AAPL_cols.remove('Close')\n",
    "AAPL_cols = ['Close'] + AAPL_cols\n",
    "AAPL_df = AAPL_df[AAPL_cols]\n",
    "AAPL_df = AAPL_df[['Date', 'Close']]\n",
    "AAPL_df"
   ]
  },
  {
   "cell_type": "code",
   "execution_count": 175,
   "id": "ideal-viewer",
   "metadata": {},
   "outputs": [],
   "source": [
    "from sklearn.preprocessing import MinMaxScaler, StandardScaler\n",
    "\n",
    "\n",
    "def data_normalisation(df):\n",
    "    scaler=MinMaxScaler(feature_range=(0,1))\n",
    "#     scaler= StandardScaler()\n",
    "    for column_name in list(df.columns.values):\n",
    "        if column_name == 'Date':\n",
    "            continue\n",
    "        the_list = df[column_name].tolist()\n",
    "        the_list = np.array(the_list)\n",
    "        the_list = scaler.fit_transform(the_list.reshape(-1,1))\n",
    "        df.drop(column_name, axis = 1, inplace = True)\n",
    "        df[column_name] = the_list\n",
    "    return df\n",
    "        \n",
    "def split_train_test_data(df, lookback,num_feature=1):\n",
    "    df_list = df.loc[:, df.columns != 'Date'].values.tolist()\n",
    "    res_list = df['Close'].tolist()\n",
    "    res_list = np.array(res_list)\n",
    "#     print(len(res_list))\n",
    "    data = []\n",
    "    res_data = []\n",
    "\n",
    "    for index in range(len(df_list) - lookback -1): \n",
    "        the_list = df_list[index: index + lookback]\n",
    "        the_list= np.array(the_list)\n",
    "        the_list = the_list.reshape(-1)\n",
    "#         print(the_list.shape)\n",
    "        if index==0:\n",
    "            print(the_list)\n",
    "        data.append(the_list)\n",
    "        res_data.append(res_list[index + lookback:index + lookback + 1])\n",
    "\n",
    "    data = np.array(data)\n",
    "    res_data = np.array(res_data)\n",
    "    \n",
    "    test_set_size = int(np.round(0.2*data.shape[0]))\n",
    "    train_set_size = data.shape[0] - (test_set_size)*2\n",
    "    \n",
    "    x_train = data[:train_set_size]\n",
    "    y_train = res_data[:train_set_size]\n",
    "    y_train = np.squeeze(y_train)\n",
    "    \n",
    "    x_val = data[train_set_size:train_set_size+test_set_size]\n",
    "    y_val = res_data[train_set_size:train_set_size+test_set_size]\n",
    "    y_val = np.squeeze(y_val)\n",
    "    \n",
    "    x_test = data[train_set_size+test_set_size:]\n",
    "    y_test = res_data[train_set_size+test_set_size:]\n",
    "    y_test = np.squeeze(y_test)\n",
    "    \n",
    "    return [x_train, y_train,x_val,y_val, x_test, y_test]"
   ]
  },
  {
   "cell_type": "code",
   "execution_count": 176,
   "id": "remarkable-medline",
   "metadata": {},
   "outputs": [
    {
     "name": "stdout",
     "output_type": "stream",
     "text": [
      "[0.0297789  0.02494904 0.02496473 0.02730125 0.03379333 0.03398151\n",
      " 0.02965345 0.03117454 0.03051593 0.02584288 0.02454132 0.02882234\n",
      " 0.03012389 0.03459308 0.0355026  0.03569077 0.02948095 0.03915635\n",
      " 0.04478596 0.04205741 0.04436256 0.04439393 0.04582092 0.04641682\n",
      " 0.044833   0.04607183 0.04967853 0.0541634  0.05664106 0.05761331]\n",
      "[0.0297789  0.02494904 0.02496473 0.02730125 0.03379333 0.03398151\n",
      " 0.02965345 0.03117454 0.03051593 0.02584288 0.02454132 0.02882234\n",
      " 0.03012389 0.03459308 0.0355026  0.03569077 0.02948095 0.03915635\n",
      " 0.04478596 0.04205741 0.04436256 0.04439393 0.04582092 0.04641682\n",
      " 0.044833   0.04607183 0.04967853 0.0541634  0.05664106 0.05761331]\n"
     ]
    }
   ],
   "source": [
    "lookback = 30 # choose sequence length\n",
    "normalised_AAPL_df = data_normalisation(AAPL_df)\n",
    "x_train, y_train,x_val,y_val, x_test, y_test = split_train_test_data(normalised_AAPL_df, lookback,num_feature=1)# change the num_feature value for using more features\n",
    "# x_test = np.squeeze(x_test)\n",
    "print(x_train[0])"
   ]
  },
  {
   "cell_type": "code",
   "execution_count": 177,
   "id": "medium-brave",
   "metadata": {},
   "outputs": [
    {
     "name": "stdout",
     "output_type": "stream",
     "text": [
      "Mean Absolute Error: 0.56 degrees.\n"
     ]
    }
   ],
   "source": [
    "rf = RandomForestRegressor(n_estimators=100, criterion='squared_error')\n",
    "rf.fit(x_train, y_train)\n",
    "predictions = rf.predict(x_test)\n",
    "errors = abs(predictions - y_test)\n",
    "# Print out the mean absolute error (mae)\n",
    "print('Mean Absolute Error:', round(np.mean(errors), 2), 'degrees.')"
   ]
  },
  {
   "cell_type": "code",
   "execution_count": 178,
   "id": "frequent-edmonton",
   "metadata": {},
   "outputs": [
    {
     "data": {
      "text/plain": [
       "[<matplotlib.lines.Line2D at 0x2be002e13c8>]"
      ]
     },
     "execution_count": 178,
     "metadata": {},
     "output_type": "execute_result"
    },
    {
     "data": {
      "image/png": "[encoded data removed]",
      "text/plain": [
       "<Figure size 432x288 with 1 Axes>"
      ]
     },
     "metadata": {},
     "output_type": "display_data"
    }
   ],
   "source": [
    "x=[i for i in range(len(x_test))]\n",
    "plt.plot(x, predictions)\n",
    "plt.plot(x, y_test)\n",
    "# plt.imshow()"
   ]
  },
  {
   "cell_type": "code",
   "execution_count": 179,
   "id": "planned-boulder",
   "metadata": {},
   "outputs": [
    {
     "data": {
      "text/plain": [
       "array([[5.45286957e-05],\n",
       "       [2.22141861e-05],\n",
       "       [2.57467675e-05],\n",
       "       [7.91078179e-05],\n",
       "       [1.44216118e-05],\n",
       "       [0.00000000e+00],\n",
       "       [1.65323386e-05],\n",
       "       [2.75101666e-04],\n",
       "       [2.24691265e-04],\n",
       "       [9.75943243e-06],\n",
       "       [3.86379758e-04],\n",
       "       [3.25123912e-04],\n",
       "       [2.41320853e-04],\n",
       "       [3.97014321e-05],\n",
       "       [1.90828524e-04],\n",
       "       [1.93699318e-04],\n",
       "       [7.29710574e-05],\n",
       "       [3.16520044e-05],\n",
       "       [5.41242163e-05],\n",
       "       [5.88841530e-04],\n",
       "       [5.98831173e-04],\n",
       "       [6.61785391e-04],\n",
       "       [4.70888988e-04],\n",
       "       [5.15292615e-04],\n",
       "       [8.38272449e-04],\n",
       "       [1.16180991e-03],\n",
       "       [1.64408408e-03],\n",
       "       [2.13567573e-03],\n",
       "       [2.37021204e-02],\n",
       "       [1.00000000e+00]])"
      ]
     },
     "execution_count": 179,
     "metadata": {},
     "output_type": "execute_result"
    }
   ],
   "source": [
    "scaler=MinMaxScaler(feature_range=(0,1))\n",
    "rf_feature = rf.feature_importances_\n",
    "rf_feature = scaler.fit_transform(rf_feature.reshape(-1, 1))\n",
    "rf_feature"
   ]
  },
  {
   "cell_type": "code",
   "execution_count": 180,
   "id": "married-amazon",
   "metadata": {},
   "outputs": [
    {
     "name": "stdout",
     "output_type": "stream",
     "text": [
      "Mean Absolute Error: 0.57 degrees.\n"
     ]
    }
   ],
   "source": [
    "reg = GradientBoostingRegressor()\n",
    "reg.fit(x_train, y_train)\n",
    "predictions = reg.predict(x_test)\n",
    "errors = abs(predictions - y_test)\n",
    "# Print out the mean absolute error (mae)\n",
    "print('Mean Absolute Error:', round(np.mean(errors), 2), 'degrees.')"
   ]
  },
  {
   "cell_type": "code",
   "execution_count": 181,
   "id": "sought-coordination",
   "metadata": {},
   "outputs": [
    {
     "data": {
      "text/plain": [
       "array([[3.76197370e-05],\n",
       "       [1.66459064e-04],\n",
       "       [1.54612526e-05],\n",
       "       [5.08102356e-04],\n",
       "       [0.00000000e+00],\n",
       "       [8.39526606e-04],\n",
       "       [7.51124356e-05],\n",
       "       [1.24957935e-04],\n",
       "       [3.01706649e-04],\n",
       "       [2.70928473e-05],\n",
       "       [1.07149119e-03],\n",
       "       [2.34883303e-05],\n",
       "       [3.65988332e-05],\n",
       "       [3.39192476e-05],\n",
       "       [2.29078014e-05],\n",
       "       [1.95648574e-04],\n",
       "       [7.37156046e-05],\n",
       "       [1.50125684e-04],\n",
       "       [1.62367236e-04],\n",
       "       [3.03682449e-05],\n",
       "       [3.01948325e-04],\n",
       "       [2.29778515e-03],\n",
       "       [2.44557183e-05],\n",
       "       [4.38758243e-03],\n",
       "       [2.62660301e-03],\n",
       "       [8.99508067e-04],\n",
       "       [2.26351398e-03],\n",
       "       [2.46406326e-02],\n",
       "       [3.44835056e-03],\n",
       "       [1.00000000e+00]])"
      ]
     },
     "execution_count": 181,
     "metadata": {},
     "output_type": "execute_result"
    }
   ],
   "source": [
    "xg_feature = reg.feature_importances_\n",
    "xg_feature = scaler.fit_transform(xg_feature.reshape(-1, 1))\n",
    "xg_feature"
   ]
  },
  {
   "cell_type": "code",
   "execution_count": 182,
   "id": "interstate-importance",
   "metadata": {},
   "outputs": [
    {
     "name": "stdout",
     "output_type": "stream",
     "text": [
      "Mean Absolute Error: 0.55 degrees.\n"
     ]
    }
   ],
   "source": [
    "reg = DecisionTreeRegressor(max_depth=1000)\n",
    "reg.fit(x_train, y_train)\n",
    "predictions = reg.predict(x_test)\n",
    "errors = abs(predictions - y_test)\n",
    "# Print out the mean absolute error (mae)\n",
    "print('Mean Absolute Error:', round(np.mean(errors), 2), 'degrees.')"
   ]
  },
  {
   "cell_type": "code",
   "execution_count": 183,
   "id": "coordinated-pharmaceutical",
   "metadata": {},
   "outputs": [
    {
     "data": {
      "text/plain": [
       "[<matplotlib.lines.Line2D at 0x2be00323488>]"
      ]
     },
     "execution_count": 183,
     "metadata": {},
     "output_type": "execute_result"
    },
    {
     "data": {
      "image/png": "[encoded data removed]",
      "text/plain": [
       "<Figure size 432x288 with 1 Axes>"
      ]
     },
     "metadata": {},
     "output_type": "display_data"
    }
   ],
   "source": [
    "plt.plot(x, predictions)\n",
    "plt.plot(x, y_test)"
   ]
  },
  {
   "cell_type": "code",
   "execution_count": 184,
   "id": "operational-joint",
   "metadata": {},
   "outputs": [
    {
     "name": "stdout",
     "output_type": "stream",
     "text": [
      "Mean Absolute Error: 0.02 degrees.\n"
     ]
    }
   ],
   "source": [
    "reg = RidgeCV()\n",
    "reg.fit(x_train, y_train)\n",
    "predictions = reg.predict(x_test)\n",
    "errors = abs(predictions - y_test)\n",
    "# Print out the mean absolute error (mae)\n",
    "print('Mean Absolute Error:', round(np.mean(errors), 2), 'degrees.')"
   ]
  },
  {
   "cell_type": "code",
   "execution_count": 185,
   "id": "sitting-patrick",
   "metadata": {},
   "outputs": [
    {
     "data": {
      "text/plain": [
       "[<matplotlib.lines.Line2D at 0x2be014ecb88>]"
      ]
     },
     "execution_count": 185,
     "metadata": {},
     "output_type": "execute_result"
    },
    {
     "data": {
      "image/png": "[encoded data removed]",
      "text/plain": [
       "<Figure size 432x288 with 1 Axes>"
      ]
     },
     "metadata": {},
     "output_type": "display_data"
    }
   ],
   "source": [
    "x=[i for i in range(len(x_test))]\n",
    "plt.plot(x, predictions)\n",
    "plt.plot(x, y_test)"
   ]
  },
  {
   "cell_type": "code",
   "execution_count": 186,
   "id": "fitting-poultry",
   "metadata": {},
   "outputs": [
    {
     "data": {
      "text/plain": [
       "array([[0.03389968],\n",
       "       [0.02596676],\n",
       "       [0.04775441],\n",
       "       [0.02472343],\n",
       "       [0.02850704],\n",
       "       [0.0221397 ],\n",
       "       [0.00466261],\n",
       "       [0.00306993],\n",
       "       [0.        ],\n",
       "       [0.02082963],\n",
       "       [0.03831968],\n",
       "       [0.04422398],\n",
       "       [0.04458266],\n",
       "       [0.06408936],\n",
       "       [0.06409586],\n",
       "       [0.03997558],\n",
       "       [0.03466461],\n",
       "       [0.03070265],\n",
       "       [0.04201401],\n",
       "       [0.04422385],\n",
       "       [0.05007278],\n",
       "       [0.07119281],\n",
       "       [0.08163254],\n",
       "       [0.14654778],\n",
       "       [0.18679449],\n",
       "       [0.25605055],\n",
       "       [0.34214488],\n",
       "       [0.46289246],\n",
       "       [0.66113259],\n",
       "       [1.        ]])"
      ]
     },
     "execution_count": 186,
     "metadata": {},
     "output_type": "execute_result"
    }
   ],
   "source": [
    "RidgeCV_feature = reg.coef_\n",
    "RidgeCV_feature = scaler.fit_transform(RidgeCV_feature.reshape(-1, 1))\n",
    "RidgeCV_feature"
   ]
  },
  {
   "cell_type": "code",
   "execution_count": 187,
   "id": "nonprofit-wings",
   "metadata": {},
   "outputs": [
    {
     "name": "stdout",
     "output_type": "stream",
     "text": [
      "Mean Absolute Error: 0.01 degrees.\n"
     ]
    }
   ],
   "source": [
    "reg = LinearRegression()\n",
    "reg.fit(x_train, y_train)\n",
    "predictions = reg.predict(x_test)\n",
    "errors = abs(predictions - y_test)\n",
    "# Print out the mean absolute error (mae)\n",
    "print('Mean Absolute Error:', round(np.mean(errors), 2), 'degrees.')"
   ]
  },
  {
   "cell_type": "code",
   "execution_count": 188,
   "id": "bright-retrieval",
   "metadata": {},
   "outputs": [
    {
     "data": {
      "text/plain": [
       "[<matplotlib.lines.Line2D at 0x2be01573e08>]"
      ]
     },
     "execution_count": 188,
     "metadata": {},
     "output_type": "execute_result"
    },
    {
     "data": {
      "image/png": "[encoded data removed]",
      "text/plain": [
       "<Figure size 432x288 with 1 Axes>"
      ]
     },
     "metadata": {},
     "output_type": "display_data"
    }
   ],
   "source": [
    "plt.plot(x, predictions)\n",
    "plt.plot(x, y_test)"
   ]
  },
  {
   "cell_type": "code",
   "execution_count": 189,
   "id": "pleased-allocation",
   "metadata": {},
   "outputs": [
    {
     "data": {
      "text/plain": [
       "array([[0.17195446],\n",
       "       [0.02426775],\n",
       "       [0.24465021],\n",
       "       [0.07912928],\n",
       "       [0.12696433],\n",
       "       [0.17820999],\n",
       "       [0.09794399],\n",
       "       [0.14246607],\n",
       "       [0.10389448],\n",
       "       [0.09359574],\n",
       "       [0.15828255],\n",
       "       [0.15828859],\n",
       "       [0.07157993],\n",
       "       [0.16235919],\n",
       "       [0.17036403],\n",
       "       [0.1250741 ],\n",
       "       [0.13839237],\n",
       "       [0.09960105],\n",
       "       [0.14756176],\n",
       "       [0.14281982],\n",
       "       [0.08143828],\n",
       "       [0.21820764],\n",
       "       [0.        ],\n",
       "       [0.20747127],\n",
       "       [0.1123951 ],\n",
       "       [0.14044054],\n",
       "       [0.16751733],\n",
       "       [0.16714386],\n",
       "       [0.06230388],\n",
       "       [1.        ]])"
      ]
     },
     "execution_count": 189,
     "metadata": {},
     "output_type": "execute_result"
    }
   ],
   "source": [
    "LR_feature = reg.coef_\n",
    "LR_feature = scaler.fit_transform(LR_feature.reshape(-1, 1))\n",
    "LR_feature"
   ]
  },
  {
   "cell_type": "code",
   "execution_count": 190,
   "id": "operational-intranet",
   "metadata": {},
   "outputs": [
    {
     "name": "stdout",
     "output_type": "stream",
     "text": [
      "Day 30 & 1.0000000000 & 1.0000000000 & 1.0000000000 & 1.0000000000 \\\\\n",
      "Day 29 & 0.0034483506 & 0.0237021204 & 0.0623038796 & 0.6611325883 \\\\\n",
      "Day 28 & 0.0246406326 & 0.0021356757 & 0.1671438559 & 0.4628924597 \\\\\n",
      "Day 27 & 0.0022635140 & 0.0016440841 & 0.1675173304 & 0.3421448774 \\\\\n",
      "Day 26 & 0.0008995081 & 0.0011618099 & 0.1404405447 & 0.2560505522 \\\\\n",
      "Day 25 & 0.0026266030 & 0.0008382724 & 0.1123950970 & 0.1867944903 \\\\\n",
      "Day 24 & 0.0043875824 & 0.0005152926 & 0.2074712732 & 0.1465477793 \\\\\n",
      "Day 23 & 0.0000244557 & 0.0004708890 & 0.0000000000 & 0.0816325393 \\\\\n",
      "Day 22 & 0.0022977852 & 0.0006617854 & 0.2182076440 & 0.0711928063 \\\\\n",
      "Day 21 & 0.0003019483 & 0.0005988312 & 0.0814382835 & 0.0500727849 \\\\\n",
      "Day 20 & 0.0000303682 & 0.0005888415 & 0.1428198169 & 0.0442238501 \\\\\n",
      "Day 19 & 0.0001623672 & 0.0000541242 & 0.1475617587 & 0.0420140111 \\\\\n",
      "Day 18 & 0.0001501257 & 0.0000316520 & 0.0996010546 & 0.0307026506 \\\\\n",
      "Day 17 & 0.0000737156 & 0.0000729711 & 0.1383923695 & 0.0346646107 \\\\\n",
      "Day 16 & 0.0001956486 & 0.0001936993 & 0.1250741004 & 0.0399755784 \\\\\n",
      "Day 15 & 0.0000229078 & 0.0001908285 & 0.1703640333 & 0.0640958585 \\\\\n",
      "Day 14 & 0.0000339192 & 0.0000397014 & 0.1623591878 & 0.0640893561 \\\\\n",
      "Day 13 & 0.0000365988 & 0.0002413209 & 0.0715799317 & 0.0445826617 \\\\\n",
      "Day 12 & 0.0000234883 & 0.0003251239 & 0.1582885854 & 0.0442239775 \\\\\n",
      "Day 11 & 0.0010714912 & 0.0003863798 & 0.1582825515 & 0.0383196776 \\\\\n",
      "Day 10 & 0.0000270928 & 0.0000097594 & 0.0935957420 & 0.0208296313 \\\\\n",
      "Day 9 & 0.0003017066 & 0.0002246913 & 0.1038944812 & 0.0000000000 \\\\\n",
      "Day 8 & 0.0001249579 & 0.0002751017 & 0.1424660669 & 0.0030699331 \\\\\n",
      "Day 7 & 0.0000751124 & 0.0000165323 & 0.0979439924 & 0.0046626097 \\\\\n",
      "Day 6 & 0.0008395266 & 0.0000000000 & 0.1782099888 & 0.0221397045 \\\\\n",
      "Day 5 & 0.0000000000 & 0.0000144216 & 0.1269643267 & 0.0285070397 \\\\\n",
      "Day 4 & 0.0005081024 & 0.0000791078 & 0.0791292754 & 0.0247234253 \\\\\n",
      "Day 3 & 0.0000154613 & 0.0000257468 & 0.2446502092 & 0.0477544126 \\\\\n",
      "Day 2 & 0.0001664591 & 0.0000222142 & 0.0242677548 & 0.0259667574 \\\\\n",
      "Day 1 & 0.0000376197 & 0.0000545287 & 0.1719544636 & 0.0338996799 \\\\\n"
     ]
    }
   ],
   "source": [
    "for i in range(30,0,-1):\n",
    "    print(\"Day\", i, '&','%.10f' % xg_feature[i-1][0], '&','%.10f' % rf_feature[i-1][0], '&', '%.10f' % LR_feature[i-1][0],'&', '%.10f' % RidgeCV_feature[i-1][0], '\\\\\\\\')"
   ]
  },
  {
   "cell_type": "code",
   "execution_count": 173,
   "id": "operating-mozambique",
   "metadata": {},
   "outputs": [
    {
     "name": "stdout",
     "output_type": "stream",
     "text": [
      "Date & 0.0001088816 & 0.0003982932 & 0.1668403995 & 0.0909101866 \\\\\n",
      "Close & 0.8113933415 & 1.0000000000 & 1.0000000000 & 1.0000000000 \\\\\n",
      "Volume & 0.0001270191 & 0.0004105435 & 0.1651664289 & 0.0850668375 \\\\\n",
      "Adj Close & 1.0000000000 & 0.8219930297 & 0.4710608238 & 0.9575337816 \\\\\n",
      "^DJI_Close & 0.0046094380 & 0.0021109964 & 0.1077034764 & 0.0753307690 \\\\\n",
      "^IXIC_Close & 0.0003860128 & 0.0009105062 & 0.0000000000 & 0.1973461366 \\\\\n",
      "^GSPC_Close & 0.0001709844 & 0.0024204343 & 0.0567570822 & 0.1628037377 \\\\\n",
      "^RLG_Close & 0.0009323724 & 0.0038203917 & 0.4226625451 & 0.2137202982 \\\\\n",
      "^NYA_Close & 0.0115676638 & 0.0002927340 & 0.2385439739 & 0.0689802273 \\\\\n",
      "^VIX_Close & 0.0001463609 & 0.0002812106 & 0.1768466635 & 0.1016698722 \\\\\n",
      "DX-Y.NYB_Close & 0.0000868779 & 0.0002582233 & 0.1668344901 & 0.0842962107 \\\\\n",
      "EURUSD=X_Close & 0.0001190478 & 0.0004532431 & 0.1582453346 & 0.0606988301 \\\\\n",
      "GBPUSD=X_Close & 0.0002471491 & 0.0003055625 & 0.1692776279 & 0.0876862385 \\\\\n",
      "GC=F_Close & 0.0001859754 & 0.0003466176 & 0.1788618321 & 0.1387751001 \\\\\n",
      "SI=F_Close & 0.0000978529 & 0.0003373666 & 0.1509559420 & 0.0288078919 \\\\\n",
      "CL=F_Close & 0.0000756483 & 0.0003247847 & 0.1550795991 & 0.0915603641 \\\\\n",
      "WM1NS & 0.0001886012 & 0.0003884645 & 0.1804063382 & 0.1054068003 \\\\\n",
      "WM2NS & 0.0035363259 & 0.0030692622 & 0.1625025077 & 0.1174983271 \\\\\n",
      "ICSA & 0.0000188799 & 0.0001052159 & 0.1416672833 & 0.1059172825 \\\\\n",
      "CCSA & 0.0004204996 & 0.0001765479 & 0.2192605037 & 0.0327556359 \\\\\n",
      "JTSJOL & 0.0001659736 & 0.0001001114 & 0.1561130214 & 0.0683028452 \\\\\n",
      "PAYEMS & 0.0000000000 & 0.0000098624 & 0.3498616061 & 0.0833943498 \\\\\n",
      "RSXFS & 0.0000756953 & 0.0000567154 & 0.1345492418 & 0.0716757511 \\\\\n",
      "TCU & 0.0000579528 & 0.0000365492 & 0.1642721881 & 0.0614111758 \\\\\n",
      "UMCSENT & 0.0001324313 & 0.0000662574 & 0.1596503415 & 0.0617996867 \\\\\n",
      "BUSINV & 0.0076349103 & 0.0000091082 & 0.1556138051 & 0.0409912851 \\\\\n",
      "INDPRO & 0.0000128333 & 0.0000353258 & 0.1656376460 & 0.1385495908 \\\\\n",
      "GACDFSA066MSFRBPHI & 0.0000000000 & 0.0000443560 & 0.1655155191 & 0.0918343792 \\\\\n",
      "GACDISA066MSFRBNY & 0.0000271659 & 0.0000759474 & 0.1619583780 & 0.0951010368 \\\\\n",
      "BACTSAMFRBDAL & 0.0000038174 & 0.0000246084 & 0.1776287130 & 0.0999123804 \\\\\n",
      "IR & 0.0004219149 & 0.0000628694 & 0.1766394449 & 0.1018675139 \\\\\n",
      "IQ & 0.0002239183 & 0.0001509750 & 0.2166197712 & 0.0824124535 \\\\\n",
      "PPIACO & 0.0000112520 & 0.0000298860 & 0.1295308408 & 0.1254609008 \\\\\n",
      "CPIAUCSL & 0.0000000000 & 0.0000075089 & 0.1468671777 & 0.0919161580 \\\\\n",
      "CPILFESL & 0.0000017942 & 0.0000000000 & 0.0449634544 & 0.0000000000 \\\\\n",
      "MICH & 0.0000000000 & 0.0000158283 & 0.1554170801 & 0.0789825605 \\\\\n",
      "CSCICP03USM665S & 0.0002686464 & 0.0000367052 & 0.1822037233 & 0.0930056704 \\\\\n",
      "Grow & 0.0000112558 & 0.0000377652 & 0.1658374317 & 0.0857159312 \\\\\n",
      "News_Score & 0.0001088816 & 0.0003982932 & 0.1668403995 & 0.0909101866 \\\\\n"
     ]
    }
   ],
   "source": [
    "names=AAPL_df.columns.tolist()\n",
    "for i in range(len(names)):\n",
    "    print(names[i], '&', '%.10f' % xg_feature[i-1][0], '&', '%.10f' % rf_feature[i-1][0], '&', '%.10f' %  LR_feature[i-1][0],'&', '%.10f' % RidgeCV_feature[i-1][0], '\\\\\\\\')"
   ]
  },
  {
   "cell_type": "code",
   "execution_count": 104,
   "id": "advisory-large",
   "metadata": {},
   "outputs": [
    {
     "name": "stdout",
     "output_type": "stream",
     "text": [
      "Mean Absolute Error: 1.58 degrees.\n"
     ]
    }
   ],
   "source": [
    "reg = SVR(kernel='poly')\n",
    "reg.fit(x_train, y_train)\n",
    "predictions = reg.predict(x_test)\n",
    "errors = abs(predictions - y_test)\n",
    "# Print out the mean absolute error (mae)\n",
    "print('Mean Absolute Error:', round(np.mean(errors), 2), 'degrees.')"
   ]
  },
  {
   "cell_type": "code",
   "execution_count": 92,
   "id": "enhanced-premises",
   "metadata": {},
   "outputs": [
    {
     "data": {
      "text/plain": [
       "[<matplotlib.lines.Line2D at 0x2be7e831fc8>]"
      ]
     },
     "execution_count": 92,
     "metadata": {},
     "output_type": "execute_result"
    },
    {
     "data": {
      "image/png": "[encoded data removed]",
      "text/plain": [
       "<Figure size 432x288 with 1 Axes>"
      ]
     },
     "metadata": {},
     "output_type": "display_data"
    }
   ],
   "source": [
    "plt.plot(x, predictions)\n",
    "plt.plot(x, y_test)"
   ]
  },
  {
   "cell_type": "code",
   "execution_count": null,
   "id": "considerable-passport",
   "metadata": {},
   "outputs": [],
   "source": []
  }
 ],
 "metadata": {
  "kernelspec": {
   "display_name": "Python 3",
   "language": "python",
   "name": "python3"
  },
  "language_info": {
   "codemirror_mode": {
    "name": "ipython",
    "version": 3
   },
   "file_extension": ".py",
   "mimetype": "text/x-python",
   "name": "python",
   "nbconvert_exporter": "python",
   "pygments_lexer": "ipython3",
   "version": "3.7.6"
  }
 },
 "nbformat": 4,
 "nbformat_minor": 5
}
